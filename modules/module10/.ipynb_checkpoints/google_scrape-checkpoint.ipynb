{
 "cells": [
  {
   "cell_type": "markdown",
   "metadata": {},
   "source": [
    "# Module 10 Overview - Simplest Example\n",
    "### This is the simplest example I could think of that shows all the techniques used in module 10\n",
    "\n",
    "1. Examining a webpage HTML live in a browser\n",
    "2. Using Splinter to retrieve the HTML of the webpage\n",
    "3. Using BeautifulSoup to retrieve something out of the webpage\n",
    "4. Putting the retrieved something in a Mongo database\n",
    "5. Create an HTML file with placeholders to place the retrieved something\n",
    "6. Create a Flask app that \n",
    "  * retrieves the somethibng from the database\n",
    "  * replaces the placeholder in the HTML file\n",
    "  * serves the newly rendered page to your browser"
   ]
  },
  {
   "cell_type": "markdown",
   "metadata": {},
   "source": [
    "## Import Splinter and BeautifulSoup"
   ]
  },
  {
   "cell_type": "code",
   "execution_count": 1,
   "metadata": {},
   "outputs": [],
   "source": [
    "from splinter import Browser\n",
    "from bs4 import BeautifulSoup as soup\n",
    "from webdriver_manager.chrome import ChromeDriverManager\n",
    "from pymongo import MongoClient"
   ]
  },
  {
   "cell_type": "markdown",
   "metadata": {},
   "source": [
    "## Inspect google.com in a web browser. Try to find the HTML of the doodle image.\n",
    "\n",
    "Note this is an img tag burried in an anchor (\"a\") tag inside a div with id=hplogo"
   ]
  },
  {
   "cell_type": "code",
   "execution_count": 2,
   "metadata": {},
   "outputs": [
    {
     "name": "stderr",
     "output_type": "stream",
     "text": [
      "[WDM] - Current google-chrome version is 86.0.4240\n",
      "[WDM] - Get LATEST driver version for 86.0.4240\n"
     ]
    },
    {
     "name": "stdout",
     "output_type": "stream",
     "text": [
      " \n"
     ]
    },
    {
     "name": "stderr",
     "output_type": "stream",
     "text": [
      "[WDM] - Driver [/Users/jrichards/.wdm/drivers/chromedriver/mac64/86.0.4240.22/chromedriver] found in cache\n"
     ]
    }
   ],
   "source": [
    "# Setup splinter\n",
    "executable_path = {'executable_path': ChromeDriverManager().install()}\n",
    "browser = Browser('chrome', **executable_path, headless=False)"
   ]
  },
  {
   "cell_type": "code",
   "execution_count": 3,
   "metadata": {},
   "outputs": [],
   "source": [
    "# Visit the page with Splinter\n",
    "browser.visit(\"http://google.com\")"
   ]
  },
  {
   "cell_type": "code",
   "execution_count": 17,
   "metadata": {},
   "outputs": [
    {
     "data": {
      "text/plain": [
       "'December Holidays'"
      ]
     },
     "execution_count": 17,
     "metadata": {},
     "output_type": "execute_result"
    }
   ],
   "source": [
    "# Get the HTML content of the webpage using Splinter\n",
    "html = browser.html\n",
    "\n",
    "# Use BeautifulSoup to get the contents of the div with id=hplogo\n",
    "google_soup = soup(html, 'html.parser')\n",
    "the_div = google_soup.select_one(\"#hplogo\")\n",
    "the_anchor = the_div.find(\"a\")\n",
    "the_img = the_anchor.find(\"img\")\n",
    "the_img['src']\n",
    "doodle_url = \"http://google.com\" + the_img['src']\n",
    "doodle_url\n",
    "doodle_title = the_img['title']\n",
    "doodle_title\n"
   ]
  },
  {
   "cell_type": "markdown",
   "metadata": {},
   "source": [
    "## Initialize a connection to the Mongo database and stuff data into it"
   ]
  },
  {
   "cell_type": "code",
   "execution_count": 26,
   "metadata": {},
   "outputs": [],
   "source": [
    "# The default port used by MongoDB is 27017\n",
    "# https://docs.mongodb.com/manual/reference/default-mongodb-port/\n",
    "db_connection = MongoClient(port=27017)"
   ]
  },
  {
   "cell_type": "code",
   "execution_count": 27,
   "metadata": {},
   "outputs": [],
   "source": [
    "# Get a reference to the database called \"doodle\". If this database\n",
    "# does not exists, it will be created for you\n",
    "db = db_connection.doodle"
   ]
  },
  {
   "cell_type": "code",
   "execution_count": 25,
   "metadata": {},
   "outputs": [],
   "source": [
    "# Create a dictionary to insert into the database\n",
    "google_doodle_info = { 'url' : doodle_url, 'title' : doodle_title}\n",
    "\n",
    "db.doodle.delete_many({}) # Delete any that exists\n",
    "\n",
    "# Insert a 'collection' named 'doodle_info' into the database 'doodle'\n",
    "result = db.doodle_info.insert_one(google_doodle_info)"
   ]
  },
  {
   "cell_type": "code",
   "execution_count": null,
   "metadata": {},
   "outputs": [],
   "source": [
    "## Now convert this code into a .py file and edit it to be used by a Flask app"
   ]
  }
 ],
 "metadata": {
  "kernelspec": {
   "display_name": "PythonData_3.7",
   "language": "python",
   "name": "pythondata_3.7"
  },
  "language_info": {
   "codemirror_mode": {
    "name": "ipython",
    "version": 3
   },
   "file_extension": ".py",
   "mimetype": "text/x-python",
   "name": "python",
   "nbconvert_exporter": "python",
   "pygments_lexer": "ipython3",
   "version": "3.8.3"
  }
 },
 "nbformat": 4,
 "nbformat_minor": 4
}
